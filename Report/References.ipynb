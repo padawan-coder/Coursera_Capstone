{
 "cells": [
  {
   "cell_type": "markdown",
   "metadata": {},
   "source": [
    "## References\n"
   ]
  },
  {
   "cell_type": "markdown",
   "metadata": {},
   "source": [
    "[1] Beer Canada , https://industry.beercanada.com/statistics , accessed 28 July 2021.\n",
    "\n",
    "[2] Hermus, G., “Brewing Up Benefits: The Economic Footprint of  Canada’s Beer Economy”, The Conference Board of Canada, Ottawa, Jan 2018.\n",
    "\n",
    "[3] Brewers Association,  https://www.brewersassociation.org/, accessed 28 July 2021.\n",
    "\n",
    "[4] Long, J., et al, “Craft Beer Consumers’ Lifestyles and Perceptions of Locality”, International Journal of Hospitality Beverage Management, Vol 2, No 1, Article 1., doi https://dx.doi.org/10.34051/j/2019.5.\n",
    "\n",
    "[5] Bankrate, https://www.bankrate.com/glossary/w/walking-distance/, accessed 28 July 2021.\n",
    "\n",
    "[6] Statistics Canada, https://www.statcan.gc.ca/eng/subjects/standard/pcrac/2016/introduction, accessed 28 July 2021.\n",
    "\n",
    "[7] Steif, Ken. 2013. \"Why Do Certain Retail Stores Cluster Together?\", Planetizen, Oct 2013. "
   ]
  }
 ],
 "metadata": {
  "kernelspec": {
   "display_name": "Python [conda env:my_env]",
   "language": "python",
   "name": "conda-env-my_env-py"
  },
  "language_info": {
   "codemirror_mode": {
    "name": "ipython",
    "version": 3
   },
   "file_extension": ".py",
   "mimetype": "text/x-python",
   "name": "python",
   "nbconvert_exporter": "python",
   "pygments_lexer": "ipython3",
   "version": "3.9.5"
  }
 },
 "nbformat": 4,
 "nbformat_minor": 4
}
